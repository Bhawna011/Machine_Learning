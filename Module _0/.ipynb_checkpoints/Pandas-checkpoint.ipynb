{
 "cells": [
  {
   "cell_type": "markdown",
   "id": "a9895112",
   "metadata": {},
   "source": [
    "# Pandas Basics \n"
   ]
  },
  {
   "cell_type": "markdown",
   "id": "e2dfb9bf",
   "metadata": {},
   "source": [
    "Data Cleaning\n",
    "Bad Data :- Empty Cells(missing values) , Data in wrong format , wrong data , duplicate "
   ]
  },
  {
   "cell_type": "markdown",
   "id": "b8db33fa",
   "metadata": {},
   "source": [
    "Missing Values\n",
    "2 ways :- remove rows and replace empty cell"
   ]
  },
  {
   "cell_type": "code",
   "execution_count": 29,
   "id": "1c38af7d",
   "metadata": {},
   "outputs": [
    {
     "name": "stdout",
     "output_type": "stream",
     "text": [
      "    Index  Duration          Date  Pulse  Maxpulse  Calories\n",
      "0       0         60  '2020/12/01    110       130     409.1\n",
      "1       1         60  '2020/12/02    117       145     479.0\n",
      "2       2         60  '2020/12/03    103       135     340.0\n",
      "3       3         45  '2020/12/04    109       175     282.4\n",
      "4       4         45  '2020/12/05    117       148     406.0\n",
      "5       5         60  '2020/12/06    102       127     300.0\n",
      "6       6         60  '2020/12/07    110       136     374.0\n",
      "7       7        450  '2020/12/08    104       134     253.3\n",
      "8       8         30  '2020/12/09    109       133     195.1\n",
      "9       9         60  '2020/12/10     98       124     269.0\n",
      "10     10         60  '2020/12/11    103       147     329.3\n",
      "11     11         60  '2020/12/12    100       120     250.7\n",
      "12     12         60  '2020/12/12    100       120     250.7\n",
      "13     13         60  '2020/12/13    106       128     345.3\n",
      "14     14         60  '2020/12/14    104       132     379.3\n",
      "15     15         60  '2020/12/15     98       123     275.0\n",
      "16     16         60  '2020/12/16     98       120     215.2\n",
      "17     17         60  '2020/12/17    100       120     300.0\n",
      "19     19         60  '2020/12/19    103       123     323.0\n",
      "20     20         45  '2020/12/20     97       125     243.0\n",
      "21     21         60  '2020/12/21    108       131     364.2\n",
      "23     23         60  '2020/12/23    130       101     300.0\n",
      "24     24         45  '2020/12/24    105       132     246.0\n",
      "25     25         60  '2020/12/25    102       126     334.5\n",
      "26     26          6   12/27/2020    100       120     250.0\n",
      "27     27         60  '2020/12/27     92       118     241.0\n",
      "29     29         60  '2020/12/29    100       132     280.0\n",
      "30     30         60  '2020/12/30    102       129     380.3\n",
      "31     31         60  '2020/12/31     92       115     243.0\n"
     ]
    }
   ],
   "source": [
    "# return a new data frame with no empty cells . \n",
    "import pandas as pd \n",
    "df=pd.read_csv(\"cleaning_data.csv\")\n",
    "\n",
    "new_df= df.dropna()\n",
    "print(new_df.to_string())"
   ]
  },
  {
   "cell_type": "code",
   "execution_count": 31,
   "id": "e97e5947",
   "metadata": {},
   "outputs": [
    {
     "data": {
      "text/html": [
       "<div>\n",
       "<style scoped>\n",
       "    .dataframe tbody tr th:only-of-type {\n",
       "        vertical-align: middle;\n",
       "    }\n",
       "\n",
       "    .dataframe tbody tr th {\n",
       "        vertical-align: top;\n",
       "    }\n",
       "\n",
       "    .dataframe thead th {\n",
       "        text-align: right;\n",
       "    }\n",
       "</style>\n",
       "<table border=\"1\" class=\"dataframe\">\n",
       "  <thead>\n",
       "    <tr style=\"text-align: right;\">\n",
       "      <th></th>\n",
       "      <th>Index</th>\n",
       "      <th>Duration</th>\n",
       "      <th>Date</th>\n",
       "      <th>Pulse</th>\n",
       "      <th>Maxpulse</th>\n",
       "      <th>Calories</th>\n",
       "    </tr>\n",
       "  </thead>\n",
       "  <tbody>\n",
       "    <tr>\n",
       "      <th>0</th>\n",
       "      <td>0</td>\n",
       "      <td>60</td>\n",
       "      <td>'2020/12/01</td>\n",
       "      <td>110</td>\n",
       "      <td>130</td>\n",
       "      <td>409.1</td>\n",
       "    </tr>\n",
       "    <tr>\n",
       "      <th>1</th>\n",
       "      <td>1</td>\n",
       "      <td>60</td>\n",
       "      <td>'2020/12/02</td>\n",
       "      <td>117</td>\n",
       "      <td>145</td>\n",
       "      <td>479.0</td>\n",
       "    </tr>\n",
       "    <tr>\n",
       "      <th>2</th>\n",
       "      <td>2</td>\n",
       "      <td>60</td>\n",
       "      <td>'2020/12/03</td>\n",
       "      <td>103</td>\n",
       "      <td>135</td>\n",
       "      <td>340.0</td>\n",
       "    </tr>\n",
       "    <tr>\n",
       "      <th>3</th>\n",
       "      <td>3</td>\n",
       "      <td>45</td>\n",
       "      <td>'2020/12/04</td>\n",
       "      <td>109</td>\n",
       "      <td>175</td>\n",
       "      <td>282.4</td>\n",
       "    </tr>\n",
       "    <tr>\n",
       "      <th>4</th>\n",
       "      <td>4</td>\n",
       "      <td>45</td>\n",
       "      <td>'2020/12/05</td>\n",
       "      <td>117</td>\n",
       "      <td>148</td>\n",
       "      <td>406.0</td>\n",
       "    </tr>\n",
       "    <tr>\n",
       "      <th>5</th>\n",
       "      <td>5</td>\n",
       "      <td>60</td>\n",
       "      <td>'2020/12/06</td>\n",
       "      <td>102</td>\n",
       "      <td>127</td>\n",
       "      <td>300.0</td>\n",
       "    </tr>\n",
       "    <tr>\n",
       "      <th>6</th>\n",
       "      <td>6</td>\n",
       "      <td>60</td>\n",
       "      <td>'2020/12/07</td>\n",
       "      <td>110</td>\n",
       "      <td>136</td>\n",
       "      <td>374.0</td>\n",
       "    </tr>\n",
       "    <tr>\n",
       "      <th>7</th>\n",
       "      <td>7</td>\n",
       "      <td>450</td>\n",
       "      <td>'2020/12/08</td>\n",
       "      <td>104</td>\n",
       "      <td>134</td>\n",
       "      <td>253.3</td>\n",
       "    </tr>\n",
       "    <tr>\n",
       "      <th>8</th>\n",
       "      <td>8</td>\n",
       "      <td>30</td>\n",
       "      <td>'2020/12/09</td>\n",
       "      <td>109</td>\n",
       "      <td>133</td>\n",
       "      <td>195.1</td>\n",
       "    </tr>\n",
       "    <tr>\n",
       "      <th>9</th>\n",
       "      <td>9</td>\n",
       "      <td>60</td>\n",
       "      <td>'2020/12/10</td>\n",
       "      <td>98</td>\n",
       "      <td>124</td>\n",
       "      <td>269.0</td>\n",
       "    </tr>\n",
       "    <tr>\n",
       "      <th>10</th>\n",
       "      <td>10</td>\n",
       "      <td>60</td>\n",
       "      <td>'2020/12/11</td>\n",
       "      <td>103</td>\n",
       "      <td>147</td>\n",
       "      <td>329.3</td>\n",
       "    </tr>\n",
       "    <tr>\n",
       "      <th>11</th>\n",
       "      <td>11</td>\n",
       "      <td>60</td>\n",
       "      <td>'2020/12/12</td>\n",
       "      <td>100</td>\n",
       "      <td>120</td>\n",
       "      <td>250.7</td>\n",
       "    </tr>\n",
       "    <tr>\n",
       "      <th>12</th>\n",
       "      <td>12</td>\n",
       "      <td>60</td>\n",
       "      <td>'2020/12/12</td>\n",
       "      <td>100</td>\n",
       "      <td>120</td>\n",
       "      <td>250.7</td>\n",
       "    </tr>\n",
       "    <tr>\n",
       "      <th>13</th>\n",
       "      <td>13</td>\n",
       "      <td>60</td>\n",
       "      <td>'2020/12/13</td>\n",
       "      <td>106</td>\n",
       "      <td>128</td>\n",
       "      <td>345.3</td>\n",
       "    </tr>\n",
       "    <tr>\n",
       "      <th>14</th>\n",
       "      <td>14</td>\n",
       "      <td>60</td>\n",
       "      <td>'2020/12/14</td>\n",
       "      <td>104</td>\n",
       "      <td>132</td>\n",
       "      <td>379.3</td>\n",
       "    </tr>\n",
       "    <tr>\n",
       "      <th>15</th>\n",
       "      <td>15</td>\n",
       "      <td>60</td>\n",
       "      <td>'2020/12/15</td>\n",
       "      <td>98</td>\n",
       "      <td>123</td>\n",
       "      <td>275.0</td>\n",
       "    </tr>\n",
       "    <tr>\n",
       "      <th>16</th>\n",
       "      <td>16</td>\n",
       "      <td>60</td>\n",
       "      <td>'2020/12/16</td>\n",
       "      <td>98</td>\n",
       "      <td>120</td>\n",
       "      <td>215.2</td>\n",
       "    </tr>\n",
       "    <tr>\n",
       "      <th>17</th>\n",
       "      <td>17</td>\n",
       "      <td>60</td>\n",
       "      <td>'2020/12/17</td>\n",
       "      <td>100</td>\n",
       "      <td>120</td>\n",
       "      <td>300.0</td>\n",
       "    </tr>\n",
       "    <tr>\n",
       "      <th>18</th>\n",
       "      <td>18</td>\n",
       "      <td>45</td>\n",
       "      <td>'2020/12/18</td>\n",
       "      <td>90</td>\n",
       "      <td>112</td>\n",
       "      <td>130.0</td>\n",
       "    </tr>\n",
       "    <tr>\n",
       "      <th>19</th>\n",
       "      <td>19</td>\n",
       "      <td>60</td>\n",
       "      <td>'2020/12/19</td>\n",
       "      <td>103</td>\n",
       "      <td>123</td>\n",
       "      <td>323.0</td>\n",
       "    </tr>\n",
       "    <tr>\n",
       "      <th>20</th>\n",
       "      <td>20</td>\n",
       "      <td>45</td>\n",
       "      <td>'2020/12/20</td>\n",
       "      <td>97</td>\n",
       "      <td>125</td>\n",
       "      <td>243.0</td>\n",
       "    </tr>\n",
       "    <tr>\n",
       "      <th>21</th>\n",
       "      <td>21</td>\n",
       "      <td>60</td>\n",
       "      <td>'2020/12/21</td>\n",
       "      <td>108</td>\n",
       "      <td>131</td>\n",
       "      <td>364.2</td>\n",
       "    </tr>\n",
       "    <tr>\n",
       "      <th>22</th>\n",
       "      <td>22</td>\n",
       "      <td>45</td>\n",
       "      <td>130</td>\n",
       "      <td>100</td>\n",
       "      <td>119</td>\n",
       "      <td>282.0</td>\n",
       "    </tr>\n",
       "    <tr>\n",
       "      <th>23</th>\n",
       "      <td>23</td>\n",
       "      <td>60</td>\n",
       "      <td>'2020/12/23</td>\n",
       "      <td>130</td>\n",
       "      <td>101</td>\n",
       "      <td>300.0</td>\n",
       "    </tr>\n",
       "    <tr>\n",
       "      <th>24</th>\n",
       "      <td>24</td>\n",
       "      <td>45</td>\n",
       "      <td>'2020/12/24</td>\n",
       "      <td>105</td>\n",
       "      <td>132</td>\n",
       "      <td>246.0</td>\n",
       "    </tr>\n",
       "    <tr>\n",
       "      <th>25</th>\n",
       "      <td>25</td>\n",
       "      <td>60</td>\n",
       "      <td>'2020/12/25</td>\n",
       "      <td>102</td>\n",
       "      <td>126</td>\n",
       "      <td>334.5</td>\n",
       "    </tr>\n",
       "    <tr>\n",
       "      <th>26</th>\n",
       "      <td>26</td>\n",
       "      <td>6</td>\n",
       "      <td>12/27/2020</td>\n",
       "      <td>100</td>\n",
       "      <td>120</td>\n",
       "      <td>250.0</td>\n",
       "    </tr>\n",
       "    <tr>\n",
       "      <th>27</th>\n",
       "      <td>27</td>\n",
       "      <td>60</td>\n",
       "      <td>'2020/12/27</td>\n",
       "      <td>92</td>\n",
       "      <td>118</td>\n",
       "      <td>241.0</td>\n",
       "    </tr>\n",
       "    <tr>\n",
       "      <th>28</th>\n",
       "      <td>28</td>\n",
       "      <td>60</td>\n",
       "      <td>'2020/12/28</td>\n",
       "      <td>103</td>\n",
       "      <td>132</td>\n",
       "      <td>130.0</td>\n",
       "    </tr>\n",
       "    <tr>\n",
       "      <th>29</th>\n",
       "      <td>29</td>\n",
       "      <td>60</td>\n",
       "      <td>'2020/12/29</td>\n",
       "      <td>100</td>\n",
       "      <td>132</td>\n",
       "      <td>280.0</td>\n",
       "    </tr>\n",
       "    <tr>\n",
       "      <th>30</th>\n",
       "      <td>30</td>\n",
       "      <td>60</td>\n",
       "      <td>'2020/12/30</td>\n",
       "      <td>102</td>\n",
       "      <td>129</td>\n",
       "      <td>380.3</td>\n",
       "    </tr>\n",
       "    <tr>\n",
       "      <th>31</th>\n",
       "      <td>31</td>\n",
       "      <td>60</td>\n",
       "      <td>'2020/12/31</td>\n",
       "      <td>92</td>\n",
       "      <td>115</td>\n",
       "      <td>243.0</td>\n",
       "    </tr>\n",
       "  </tbody>\n",
       "</table>\n",
       "</div>"
      ],
      "text/plain": [
       "    Index  Duration          Date  Pulse  Maxpulse  Calories\n",
       "0       0         60  '2020/12/01    110       130     409.1\n",
       "1       1         60  '2020/12/02    117       145     479.0\n",
       "2       2         60  '2020/12/03    103       135     340.0\n",
       "3       3         45  '2020/12/04    109       175     282.4\n",
       "4       4         45  '2020/12/05    117       148     406.0\n",
       "5       5         60  '2020/12/06    102       127     300.0\n",
       "6       6         60  '2020/12/07    110       136     374.0\n",
       "7       7        450  '2020/12/08    104       134     253.3\n",
       "8       8         30  '2020/12/09    109       133     195.1\n",
       "9       9         60  '2020/12/10     98       124     269.0\n",
       "10     10         60  '2020/12/11    103       147     329.3\n",
       "11     11         60  '2020/12/12    100       120     250.7\n",
       "12     12         60  '2020/12/12    100       120     250.7\n",
       "13     13         60  '2020/12/13    106       128     345.3\n",
       "14     14         60  '2020/12/14    104       132     379.3\n",
       "15     15         60  '2020/12/15     98       123     275.0\n",
       "16     16         60  '2020/12/16     98       120     215.2\n",
       "17     17         60  '2020/12/17    100       120     300.0\n",
       "18     18         45  '2020/12/18     90       112     130.0\n",
       "19     19         60  '2020/12/19    103       123     323.0\n",
       "20     20         45  '2020/12/20     97       125     243.0\n",
       "21     21         60  '2020/12/21    108       131     364.2\n",
       "22     22         45          130    100       119     282.0\n",
       "23     23         60  '2020/12/23    130       101     300.0\n",
       "24     24         45  '2020/12/24    105       132     246.0\n",
       "25     25         60  '2020/12/25    102       126     334.5\n",
       "26     26          6   12/27/2020    100       120     250.0\n",
       "27     27         60  '2020/12/27     92       118     241.0\n",
       "28     28         60  '2020/12/28    103       132     130.0\n",
       "29     29         60  '2020/12/29    100       132     280.0\n",
       "30     30         60  '2020/12/30    102       129     380.3\n",
       "31     31         60  '2020/12/31     92       115     243.0"
      ]
     },
     "execution_count": 31,
     "metadata": {},
     "output_type": "execute_result"
    }
   ],
   "source": [
    "# Replace empty values \n",
    "\n",
    "df.fillna(130)"
   ]
  },
  {
   "cell_type": "code",
   "execution_count": 32,
   "id": "c846dde1",
   "metadata": {},
   "outputs": [
    {
     "data": {
      "text/plain": [
       "0     409.1\n",
       "1     479.0\n",
       "2     340.0\n",
       "3     282.4\n",
       "4     406.0\n",
       "5     300.0\n",
       "6     374.0\n",
       "7     253.3\n",
       "8     195.1\n",
       "9     269.0\n",
       "10    329.3\n",
       "11    250.7\n",
       "12    250.7\n",
       "13    345.3\n",
       "14    379.3\n",
       "15    275.0\n",
       "16    215.2\n",
       "17    300.0\n",
       "18    130.0\n",
       "19    323.0\n",
       "20    243.0\n",
       "21    364.2\n",
       "22    282.0\n",
       "23    300.0\n",
       "24    246.0\n",
       "25    334.5\n",
       "26    250.0\n",
       "27    241.0\n",
       "28    130.0\n",
       "29    280.0\n",
       "30    380.3\n",
       "31    243.0\n",
       "Name: Calories, dtype: float64"
      ]
     },
     "execution_count": 32,
     "metadata": {},
     "output_type": "execute_result"
    }
   ],
   "source": [
    "# for only specified columns\n",
    "\n",
    "df[\"Calories\"].fillna(130)"
   ]
  },
  {
   "cell_type": "markdown",
   "id": "d841ebd2",
   "metadata": {},
   "source": [
    "Replace using mean , median , mode "
   ]
  },
  {
   "cell_type": "code",
   "execution_count": 33,
   "id": "dca6b99c",
   "metadata": {},
   "outputs": [
    {
     "data": {
      "text/plain": [
       "0     409.10\n",
       "1     479.00\n",
       "2     340.00\n",
       "3     282.40\n",
       "4     406.00\n",
       "5     300.00\n",
       "6     374.00\n",
       "7     253.30\n",
       "8     195.10\n",
       "9     269.00\n",
       "10    329.30\n",
       "11    250.70\n",
       "12    250.70\n",
       "13    345.30\n",
       "14    379.30\n",
       "15    275.00\n",
       "16    215.20\n",
       "17    300.00\n",
       "18    304.68\n",
       "19    323.00\n",
       "20    243.00\n",
       "21    364.20\n",
       "22    282.00\n",
       "23    300.00\n",
       "24    246.00\n",
       "25    334.50\n",
       "26    250.00\n",
       "27    241.00\n",
       "28    304.68\n",
       "29    280.00\n",
       "30    380.30\n",
       "31    243.00\n",
       "Name: Calories, dtype: float64"
      ]
     },
     "execution_count": 33,
     "metadata": {},
     "output_type": "execute_result"
    }
   ],
   "source": [
    "x=df[\"Calories\"].mean()\n",
    "df[\"Calories\"].fillna(x)"
   ]
  },
  {
   "cell_type": "code",
   "execution_count": 34,
   "id": "8bf18000",
   "metadata": {},
   "outputs": [
    {
     "data": {
      "text/plain": [
       "0     409.1\n",
       "1     479.0\n",
       "2     340.0\n",
       "3     282.4\n",
       "4     406.0\n",
       "5     300.0\n",
       "6     374.0\n",
       "7     253.3\n",
       "8     195.1\n",
       "9     269.0\n",
       "10    329.3\n",
       "11    250.7\n",
       "12    250.7\n",
       "13    345.3\n",
       "14    379.3\n",
       "15    275.0\n",
       "16    215.2\n",
       "17    300.0\n",
       "18    291.2\n",
       "19    323.0\n",
       "20    243.0\n",
       "21    364.2\n",
       "22    282.0\n",
       "23    300.0\n",
       "24    246.0\n",
       "25    334.5\n",
       "26    250.0\n",
       "27    241.0\n",
       "28    291.2\n",
       "29    280.0\n",
       "30    380.3\n",
       "31    243.0\n",
       "Name: Calories, dtype: float64"
      ]
     },
     "execution_count": 34,
     "metadata": {},
     "output_type": "execute_result"
    }
   ],
   "source": [
    "x=df[\"Calories\"].median()\n",
    "df[\"Calories\"].fillna(x)"
   ]
  },
  {
   "cell_type": "code",
   "execution_count": 35,
   "id": "0a2dcb13",
   "metadata": {},
   "outputs": [
    {
     "data": {
      "text/plain": [
       "0     409.1\n",
       "1     479.0\n",
       "2     340.0\n",
       "3     282.4\n",
       "4     406.0\n",
       "5     300.0\n",
       "6     374.0\n",
       "7     253.3\n",
       "8     195.1\n",
       "9     269.0\n",
       "10    329.3\n",
       "11    250.7\n",
       "12    250.7\n",
       "13    345.3\n",
       "14    379.3\n",
       "15    275.0\n",
       "16    215.2\n",
       "17    300.0\n",
       "18      NaN\n",
       "19    323.0\n",
       "20    243.0\n",
       "21    364.2\n",
       "22    282.0\n",
       "23    300.0\n",
       "24    246.0\n",
       "25    334.5\n",
       "26    250.0\n",
       "27    241.0\n",
       "28      NaN\n",
       "29    280.0\n",
       "30    380.3\n",
       "31    243.0\n",
       "Name: Calories, dtype: float64"
      ]
     },
     "execution_count": 35,
     "metadata": {},
     "output_type": "execute_result"
    }
   ],
   "source": [
    "x=df[\"Calories\"].mode()\n",
    "df[\"Calories\"].fillna(x)"
   ]
  },
  {
   "cell_type": "markdown",
   "id": "a0e72cf7",
   "metadata": {},
   "source": [
    "Data of wrong format "
   ]
  },
  {
   "cell_type": "code",
   "execution_count": 38,
   "id": "659b2b75",
   "metadata": {},
   "outputs": [
    {
     "name": "stdout",
     "output_type": "stream",
     "text": [
      "<class 'pandas.core.frame.DataFrame'>\n",
      "RangeIndex: 32 entries, 0 to 31\n",
      "Data columns (total 6 columns):\n",
      " #   Column     Non-Null Count  Dtype  \n",
      "---  ------     --------------  -----  \n",
      " 0   Index      32 non-null     int64  \n",
      " 1   Duration   32 non-null     int64  \n",
      " 2   Date       31 non-null     object \n",
      " 3   Pulse      32 non-null     int64  \n",
      " 4   Maxpulse   32 non-null     int64  \n",
      " 5   Calories   30 non-null     float64\n",
      "dtypes: float64(1), int64(4), object(1)\n",
      "memory usage: 1.6+ KB\n"
     ]
    }
   ],
   "source": [
    "df.info()"
   ]
  },
  {
   "cell_type": "code",
   "execution_count": 37,
   "id": "f862e870",
   "metadata": {
    "scrolled": true
   },
   "outputs": [
    {
     "ename": "ValueError",
     "evalue": "time data \"12/27/2020\" doesn't match format \"'%Y/%m/%d\", at position 26. You might want to try:\n    - passing `format` if your strings have a consistent format;\n    - passing `format='ISO8601'` if your strings are all ISO8601 but not necessarily in exactly the same format;\n    - passing `format='mixed'`, and the format will be inferred for each element individually. You might want to use `dayfirst` alongside this.",
     "output_type": "error",
     "traceback": [
      "\u001b[1;31m---------------------------------------------------------------------------\u001b[0m",
      "\u001b[1;31mValueError\u001b[0m                                Traceback (most recent call last)",
      "Cell \u001b[1;32mIn[37], line 1\u001b[0m\n\u001b[1;32m----> 1\u001b[0m df[\u001b[38;5;124m\"\u001b[39m\u001b[38;5;124mDate\u001b[39m\u001b[38;5;124m\"\u001b[39m]\u001b[38;5;241m=\u001b[39m\u001b[43mpd\u001b[49m\u001b[38;5;241;43m.\u001b[39;49m\u001b[43mto_datetime\u001b[49m\u001b[43m(\u001b[49m\u001b[43mdf\u001b[49m\u001b[43m[\u001b[49m\u001b[38;5;124;43m\"\u001b[39;49m\u001b[38;5;124;43mDate\u001b[39;49m\u001b[38;5;124;43m\"\u001b[39;49m\u001b[43m]\u001b[49m\u001b[43m)\u001b[49m\n\u001b[0;32m      2\u001b[0m \u001b[38;5;28mprint\u001b[39m(df\u001b[38;5;241m.\u001b[39mto_string())\n",
      "File \u001b[1;32m~\\AppData\\Local\\Programs\\Python\\Python310\\lib\\site-packages\\pandas\\core\\tools\\datetimes.py:1050\u001b[0m, in \u001b[0;36mto_datetime\u001b[1;34m(arg, errors, dayfirst, yearfirst, utc, format, exact, unit, infer_datetime_format, origin, cache)\u001b[0m\n\u001b[0;32m   1048\u001b[0m         result \u001b[38;5;241m=\u001b[39m arg\u001b[38;5;241m.\u001b[39mmap(cache_array)\n\u001b[0;32m   1049\u001b[0m     \u001b[38;5;28;01melse\u001b[39;00m:\n\u001b[1;32m-> 1050\u001b[0m         values \u001b[38;5;241m=\u001b[39m \u001b[43mconvert_listlike\u001b[49m\u001b[43m(\u001b[49m\u001b[43marg\u001b[49m\u001b[38;5;241;43m.\u001b[39;49m\u001b[43m_values\u001b[49m\u001b[43m,\u001b[49m\u001b[43m \u001b[49m\u001b[38;5;28;43mformat\u001b[39;49m\u001b[43m)\u001b[49m\n\u001b[0;32m   1051\u001b[0m         result \u001b[38;5;241m=\u001b[39m arg\u001b[38;5;241m.\u001b[39m_constructor(values, index\u001b[38;5;241m=\u001b[39marg\u001b[38;5;241m.\u001b[39mindex, name\u001b[38;5;241m=\u001b[39marg\u001b[38;5;241m.\u001b[39mname)\n\u001b[0;32m   1052\u001b[0m \u001b[38;5;28;01melif\u001b[39;00m \u001b[38;5;28misinstance\u001b[39m(arg, (ABCDataFrame, abc\u001b[38;5;241m.\u001b[39mMutableMapping)):\n",
      "File \u001b[1;32m~\\AppData\\Local\\Programs\\Python\\Python310\\lib\\site-packages\\pandas\\core\\tools\\datetimes.py:453\u001b[0m, in \u001b[0;36m_convert_listlike_datetimes\u001b[1;34m(arg, format, name, utc, unit, errors, dayfirst, yearfirst, exact)\u001b[0m\n\u001b[0;32m    451\u001b[0m \u001b[38;5;66;03m# `format` could be inferred, or user didn't ask for mixed-format parsing.\u001b[39;00m\n\u001b[0;32m    452\u001b[0m \u001b[38;5;28;01mif\u001b[39;00m \u001b[38;5;28mformat\u001b[39m \u001b[38;5;129;01mis\u001b[39;00m \u001b[38;5;129;01mnot\u001b[39;00m \u001b[38;5;28;01mNone\u001b[39;00m \u001b[38;5;129;01mand\u001b[39;00m \u001b[38;5;28mformat\u001b[39m \u001b[38;5;241m!=\u001b[39m \u001b[38;5;124m\"\u001b[39m\u001b[38;5;124mmixed\u001b[39m\u001b[38;5;124m\"\u001b[39m:\n\u001b[1;32m--> 453\u001b[0m     \u001b[38;5;28;01mreturn\u001b[39;00m \u001b[43m_array_strptime_with_fallback\u001b[49m\u001b[43m(\u001b[49m\u001b[43marg\u001b[49m\u001b[43m,\u001b[49m\u001b[43m \u001b[49m\u001b[43mname\u001b[49m\u001b[43m,\u001b[49m\u001b[43m \u001b[49m\u001b[43mutc\u001b[49m\u001b[43m,\u001b[49m\u001b[43m \u001b[49m\u001b[38;5;28;43mformat\u001b[39;49m\u001b[43m,\u001b[49m\u001b[43m \u001b[49m\u001b[43mexact\u001b[49m\u001b[43m,\u001b[49m\u001b[43m \u001b[49m\u001b[43merrors\u001b[49m\u001b[43m)\u001b[49m\n\u001b[0;32m    455\u001b[0m result, tz_parsed \u001b[38;5;241m=\u001b[39m objects_to_datetime64ns(\n\u001b[0;32m    456\u001b[0m     arg,\n\u001b[0;32m    457\u001b[0m     dayfirst\u001b[38;5;241m=\u001b[39mdayfirst,\n\u001b[1;32m   (...)\u001b[0m\n\u001b[0;32m    461\u001b[0m     allow_object\u001b[38;5;241m=\u001b[39m\u001b[38;5;28;01mTrue\u001b[39;00m,\n\u001b[0;32m    462\u001b[0m )\n\u001b[0;32m    464\u001b[0m \u001b[38;5;28;01mif\u001b[39;00m tz_parsed \u001b[38;5;129;01mis\u001b[39;00m \u001b[38;5;129;01mnot\u001b[39;00m \u001b[38;5;28;01mNone\u001b[39;00m:\n\u001b[0;32m    465\u001b[0m     \u001b[38;5;66;03m# We can take a shortcut since the datetime64 numpy array\u001b[39;00m\n\u001b[0;32m    466\u001b[0m     \u001b[38;5;66;03m# is in UTC\u001b[39;00m\n",
      "File \u001b[1;32m~\\AppData\\Local\\Programs\\Python\\Python310\\lib\\site-packages\\pandas\\core\\tools\\datetimes.py:484\u001b[0m, in \u001b[0;36m_array_strptime_with_fallback\u001b[1;34m(arg, name, utc, fmt, exact, errors)\u001b[0m\n\u001b[0;32m    473\u001b[0m \u001b[38;5;28;01mdef\u001b[39;00m \u001b[38;5;21m_array_strptime_with_fallback\u001b[39m(\n\u001b[0;32m    474\u001b[0m     arg,\n\u001b[0;32m    475\u001b[0m     name,\n\u001b[1;32m   (...)\u001b[0m\n\u001b[0;32m    479\u001b[0m     errors: \u001b[38;5;28mstr\u001b[39m,\n\u001b[0;32m    480\u001b[0m ) \u001b[38;5;241m-\u001b[39m\u001b[38;5;241m>\u001b[39m Index:\n\u001b[0;32m    481\u001b[0m \u001b[38;5;250m    \u001b[39m\u001b[38;5;124;03m\"\"\"\u001b[39;00m\n\u001b[0;32m    482\u001b[0m \u001b[38;5;124;03m    Call array_strptime, with fallback behavior depending on 'errors'.\u001b[39;00m\n\u001b[0;32m    483\u001b[0m \u001b[38;5;124;03m    \"\"\"\u001b[39;00m\n\u001b[1;32m--> 484\u001b[0m     result, timezones \u001b[38;5;241m=\u001b[39m \u001b[43marray_strptime\u001b[49m\u001b[43m(\u001b[49m\u001b[43marg\u001b[49m\u001b[43m,\u001b[49m\u001b[43m \u001b[49m\u001b[43mfmt\u001b[49m\u001b[43m,\u001b[49m\u001b[43m \u001b[49m\u001b[43mexact\u001b[49m\u001b[38;5;241;43m=\u001b[39;49m\u001b[43mexact\u001b[49m\u001b[43m,\u001b[49m\u001b[43m \u001b[49m\u001b[43merrors\u001b[49m\u001b[38;5;241;43m=\u001b[39;49m\u001b[43merrors\u001b[49m\u001b[43m,\u001b[49m\u001b[43m \u001b[49m\u001b[43mutc\u001b[49m\u001b[38;5;241;43m=\u001b[39;49m\u001b[43mutc\u001b[49m\u001b[43m)\u001b[49m\n\u001b[0;32m    485\u001b[0m     \u001b[38;5;28;01mif\u001b[39;00m \u001b[38;5;28many\u001b[39m(tz \u001b[38;5;129;01mis\u001b[39;00m \u001b[38;5;129;01mnot\u001b[39;00m \u001b[38;5;28;01mNone\u001b[39;00m \u001b[38;5;28;01mfor\u001b[39;00m tz \u001b[38;5;129;01min\u001b[39;00m timezones):\n\u001b[0;32m    486\u001b[0m         \u001b[38;5;28;01mreturn\u001b[39;00m _return_parsed_timezone_results(result, timezones, utc, name)\n",
      "File \u001b[1;32m~\\AppData\\Local\\Programs\\Python\\Python310\\lib\\site-packages\\pandas\\_libs\\tslibs\\strptime.pyx:530\u001b[0m, in \u001b[0;36mpandas._libs.tslibs.strptime.array_strptime\u001b[1;34m()\u001b[0m\n",
      "File \u001b[1;32m~\\AppData\\Local\\Programs\\Python\\Python310\\lib\\site-packages\\pandas\\_libs\\tslibs\\strptime.pyx:351\u001b[0m, in \u001b[0;36mpandas._libs.tslibs.strptime.array_strptime\u001b[1;34m()\u001b[0m\n",
      "\u001b[1;31mValueError\u001b[0m: time data \"12/27/2020\" doesn't match format \"'%Y/%m/%d\", at position 26. You might want to try:\n    - passing `format` if your strings have a consistent format;\n    - passing `format='ISO8601'` if your strings are all ISO8601 but not necessarily in exactly the same format;\n    - passing `format='mixed'`, and the format will be inferred for each element individually. You might want to use `dayfirst` alongside this."
     ]
    }
   ],
   "source": [
    "df[\"Date\"]=pd.to_datetime(df[\"Date\"])\n",
    "print(df.to_string())"
   ]
  },
  {
   "cell_type": "markdown",
   "id": "13084ec8",
   "metadata": {},
   "source": [
    " Pandas - Data Correlations\n",
    "\n"
   ]
  },
  {
   "cell_type": "code",
   "execution_count": 3,
   "id": "73507939",
   "metadata": {},
   "outputs": [
    {
     "name": "stdout",
     "output_type": "stream",
     "text": [
      "          Duration     Pulse  Maxpulse  Calories\n",
      "Duration  1.000000 -0.155408  0.009403  0.922717\n",
      "Pulse    -0.155408  1.000000  0.786535  0.025121\n",
      "Maxpulse  0.009403  0.786535  1.000000  0.203813\n",
      "Calories  0.922717  0.025121  0.203813  1.000000\n"
     ]
    }
   ],
   "source": [
    "# Show the relationship between the columns\n",
    "import pandas as pd \n",
    "df= pd.read_csv(\"corr_data.csv\")\n",
    "print(df.corr())"
   ]
  },
  {
   "cell_type": "markdown",
   "id": "d55582f9",
   "metadata": {},
   "source": [
    "# corr() method ignores \"not numeric \" columns\n",
    "\n",
    "Result Explained \n",
    "number varies from -1 to 1.\n",
    "\n",
    "1 = 1 to 1 relationship (a perfect correlation)\n",
    "and for this data set, each time a value went up in the first column, the other one went up as well.\n",
    "\n",
    "0.9 = good relationship, and if you increase one value, the other will probably increase as well.\n",
    "\n",
    "-0.9 = just as good relationship as 0.9, but if you increase one value, the other will probably go down.\n",
    "\n",
    "0.2 = NOT a good relationship, meaning that if one value goes up does not mean that the other will.\n",
    "\n"
   ]
  },
  {
   "cell_type": "markdown",
   "id": "7c0f57fc",
   "metadata": {},
   "source": [
    "# Pandas Plotting\n",
    "import pyplot from matplotlib and visualize dataframe"
   ]
  },
  {
   "cell_type": "code",
   "execution_count": 25,
   "id": "b23f6696",
   "metadata": {},
   "outputs": [
    {
     "data": {
      "image/png": "[encoded data removed]",
      "text/plain": [
       "<Figure size 800x400 with 1 Axes>"
      ]
     },
     "metadata": {},
     "output_type": "display_data"
    }
   ],
   "source": [
    "import matplotlib.pyplot as plt \n",
    "plt.rc('figure', figsize=(8,4))\n",
    "df.plot()\n",
    "plt.show()\n"
   ]
  },
  {
   "cell_type": "code",
   "execution_count": 26,
   "id": "8b625f6c",
   "metadata": {},
   "outputs": [
    {
     "data": {
      "image/png": "[encoded data removed]",
      "text/plain": [
       "<Figure size 800x400 with 1 Axes>"
      ]
     },
     "metadata": {},
     "output_type": "display_data"
    }
   ],
   "source": [
    "# Scatter Plot \n",
    "df.plot(kind=\"scatter\",x=\"Duration\" , y=\"Calories\")\n",
    "\n",
    "plt.show()\n"
   ]
  },
  {
   "cell_type": "markdown",
   "id": "21c12e7b",
   "metadata": {},
   "source": [
    "higher duration means more calories burned."
   ]
  },
  {
   "cell_type": "code",
   "execution_count": 27,
   "id": "a6419378",
   "metadata": {},
   "outputs": [
    {
     "data": {
      "image/png": "[encoded data removed]",
      "text/plain": [
       "<Figure size 800x400 with 1 Axes>"
      ]
     },
     "metadata": {},
     "output_type": "display_data"
    }
   ],
   "source": [
    "# a scatterplot where there is no relationship between two columns (Bad Relationship)\n",
    "\n",
    "df.plot(kind=\"scatter\" , x=\"Duration\" , y=\"Maxpulse\")\n",
    "plt.show()"
   ]
  },
  {
   "cell_type": "markdown",
   "id": "8f7f3744",
   "metadata": {},
   "source": [
    "Histogram"
   ]
  },
  {
   "cell_type": "code",
   "execution_count": 8,
   "id": "d6849f3b",
   "metadata": {},
   "outputs": [
    {
     "data": {
      "text/plain": [
       "<Axes: ylabel='Frequency'>"
      ]
     },
     "execution_count": 8,
     "metadata": {},
     "output_type": "execute_result"
    },
    {
     "data": {
      "image/png": "[encoded data removed]",
      "text/plain": [
       "<Figure size 640x480 with 1 Axes>"
      ]
     },
     "metadata": {},
     "output_type": "display_data"
    }
   ],
   "source": [
    "df[\"Duration\"].plot(kind=\"hist\")"
   ]
  }
 ],
 "metadata": {
  "kernelspec": {
   "display_name": "Python 3 (ipykernel)",
   "language": "python",
   "name": "python3"
  },
  "language_info": {
   "codemirror_mode": {
    "name": "ipython",
    "version": 3
   },
   "file_extension": ".py",
   "mimetype": "text/x-python",
   "name": "python",
   "nbconvert_exporter": "python",
   "pygments_lexer": "ipython3",
   "version": "3.10.10"
  }
 },
 "nbformat": 4,
 "nbformat_minor": 5
}
